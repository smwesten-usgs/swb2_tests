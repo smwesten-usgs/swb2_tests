{
 "cells": [
  {
   "cell_type": "markdown",
   "metadata": {},
   "source": [
    "## Test 1: basic Thornthwaite-Mather water budget\n",
    "\n",
    "This test combines the most commonly used SWB2 program options and completes a model run using tabular precipitation and air tempterature inputs. The output is compared to the same calculations made using a simple Python version of the same algorithms.\n",
    "\n",
    "For this test, a curve number of '0' is used in the SWB run, essentially ensuring that there is never any runoff calculated in SWB. This is done to make the initial comparison to the Thornthwaite-Mather soil-moisture-retention tables easier to understand. The only active sources of water are rainfall and snowmelt; the sinks are actual evapotranspiration and net infiltration. "
   ]
  },
  {
   "cell_type": "code",
   "execution_count": null,
   "metadata": {},
   "outputs": [],
   "source": [
    "import pandas as pd\n",
    "import matplotlib.pyplot as plt\n",
    "import pathlib as pl\n",
    "import sys\n",
    "import subprocess"
   ]
  },
  {
   "cell_type": "markdown",
   "metadata": {},
   "source": [
    "#### Define paths to swb2 executable and working/input data directories"
   ]
  },
  {
   "cell_type": "code",
   "execution_count": null,
   "metadata": {},
   "outputs": [],
   "source": [
    "base_dir = str(pl.Path.cwd().parent)\n",
    "python_script_dir = pl.Path.cwd().parent / 'python'\n",
    "swb_work_dir = pl.Path.cwd().parent / 'swb_work'\n",
    "logfile_dir = pl.Path.cwd().parent / 'logfiles'\n",
    "test_data_dir = pl.Path.cwd().parent / 'test_data'\n",
    "output_dir = pl.Path.cwd().parent / 'output'\n",
    "swb2_executable = str(pl.Path.cwd().parent / 'bin' /'swb2.exe')\n",
    "sys.path.append(str(python_script_dir))\n",
    "\n",
    "from swb_cell import SWBCell\n",
    "import run_management as rm"
   ]
  },
  {
   "cell_type": "code",
   "execution_count": null,
   "metadata": {},
   "outputs": [],
   "source": [
    "# Show me all of the columns of the dataframe...\n",
    "pd.set_option('display.max_columns', None)"
   ]
  },
  {
   "cell_type": "markdown",
   "metadata": {},
   "source": [
    "#### Remove and replace working directories for swb2 run"
   ]
  },
  {
   "cell_type": "code",
   "execution_count": null,
   "metadata": {},
   "outputs": [],
   "source": [
    "rm.destroy_model_work_output_and_logfile_dirs(base_dir=base_dir,\n",
    "                                              swb_work_dir=swb_work_dir,\n",
    "                                              logfile_dir=logfile_dir,\n",
    "                                              output_dir=output_dir)\n",
    "rm.create_model_work_output_and_logfile_dirs(base_dir=base_dir,\n",
    "                                             swb_work_dir=swb_work_dir,\n",
    "                                             logfile_dir=logfile_dir,\n",
    "                                             output_dir=output_dir)\n"
   ]
  },
  {
   "cell_type": "markdown",
   "metadata": {},
   "source": [
    "#### Make a new swb2 model run for a single cell example\n",
    "\n",
    "In the following step, a new swb2 model run is started using a pre-configured swb control file. The swb model contains a single cell. Daily weather data is a table of precipitation and tmax/tmin values. The test case is centered on the airport at Kenai, Alaska."
   ]
  },
  {
   "cell_type": "code",
   "execution_count": null,
   "metadata": {},
   "outputs": [],
   "source": [
    "dry_run = False\n",
    "lookup_dir_arg_text = f\"--lookup_dir={str(test_data_dir)}\"\n",
    "weather_data_dir_arg_text = f\"--weather_data_dir={str(test_data_dir)}\"\n",
    "output_dir_arg_text = f\"--output_dir={str(output_dir)}\"\n",
    "logfile_dir_arg_text = f\"--logfile_dir={str(logfile_dir)}\"\n",
    "control_file_path = str(test_data_dir / 'swb_control_file_kenai.ctl')\n",
    "output_prefix = '--output_prefix=swb_kenai_'\n",
    "\n",
    "swb_arg_text = [swb2_executable, output_dir_arg_text, lookup_dir_arg_text, weather_data_dir_arg_text, output_prefix, logfile_dir_arg_text, control_file_path]\n",
    "\n",
    "f = open(\"stdout.txt\", \"w\")\n",
    "\n",
    "if not dry_run:\n",
    "  with rm.cd(swb_work_dir):\n",
    "#    p = subprocess.Popen(swb_arg_text, stdout=subprocess.DEVNULL, stderr=subprocess.DEVNULL)\n",
    "    p = subprocess.Popen(swb_arg_text, stdout=f, stderr=subprocess.DEVNULL)\n",
    "    p.wait()"
   ]
  },
  {
   "cell_type": "markdown",
   "metadata": {},
   "source": [
    "#### Read in swb2 model results"
   ]
  },
  {
   "cell_type": "code",
   "execution_count": null,
   "metadata": {},
   "outputs": [],
   "source": [
    "swb_df = pd.read_csv(pl.Path(output_dir, 'SWB2_variable_values__Kenai_Airpt__col_1__row_1__x_150393__y_1179331.csv'))\n",
    "# eliminate pesky spaces around column names\n",
    "swb_df.columns = swb_df.columns.str.replace(' ', '')\n",
    "swb_df.columns"
   ]
  },
  {
   "cell_type": "markdown",
   "metadata": {},
   "source": [
    "#### Convert swb Imperial units to metric"
   ]
  },
  {
   "cell_type": "code",
   "execution_count": null,
   "metadata": {},
   "outputs": [],
   "source": [
    "swb_df['tminf'] = swb_df.loc[:,'tmin']\n",
    "swb_df['tmaxf'] = swb_df.loc[:,'tmax']\n",
    "swb_df['tmeanf'] = swb_df.loc[:,'tmean']\n",
    "swb_df.loc[:,'tmin'] = (swb_df.loc[:,'tmin'] - 32) / 1.8\n",
    "swb_df.loc[:,'tmax'] = (swb_df.loc[:,'tmax'] - 32) / 1.8\n",
    "swb_df.loc[:,'tmean'] = (swb_df.loc[:,'tmean'] - 32) / 1.8\n",
    "swb_df.loc[:,'gross_precip'] = swb_df.loc[:,'gross_precip'] * 25.4\n",
    "swb_df.loc[:,'actual_ET'] = swb_df.loc[:,'actual_ET'] * 25.4\n",
    "swb_df.loc[:,'reference_ET0'] = swb_df.loc[:,'reference_ET0'] * 25.4\n",
    "swb_df.loc[:,'soil_storage'] = swb_df.loc[:,'soil_storage'] * 25.4\n",
    "swb_df.loc[:,'snow_storage'] = swb_df.loc[:,'snow_storage'] * 25.4\n",
    "swb_df.loc[:,'snowfall'] = swb_df.loc[:,'snowfall'] * 25.4\n",
    "swb_df.loc[:,'snowmelt'] = swb_df.loc[:,'snowmelt'] * 25.4\n",
    "swb_df.loc[:,'net_infiltration'] = swb_df.loc[:,'net_infiltration'] * 25.4\n",
    "swb_df.loc[:,'infiltration'] = swb_df.loc[:,'infiltration'] * 25.4\n",
    "\n",
    "swb_df['date'] = pd.to_datetime(swb_df['date'])"
   ]
  },
  {
   "cell_type": "markdown",
   "metadata": {},
   "source": [
    "#### Create a Python version of a swb2 cell"
   ]
  },
  {
   "cell_type": "code",
   "execution_count": null,
   "metadata": {},
   "outputs": [],
   "source": [
    "# swb2 still uses Imperial units (inches and feet); the Python code expects metric units (mm and m).\n",
    "# The example control file we're using for swb2 specifies 3.6 inches/foot for the available water capacity.\n",
    "# 3.6 inches per foot equals 300 mm/m. The rooting depth is specified in the swb2 lookup table as 1.6404 feet, \n",
    "# or 1.6404 ft / 3.2808 ft/m = 0.5 m\n",
    "mycell = SWBCell(latitude=60.57154, available_water_capacity=300., rooting_depth=0.5)"
   ]
  },
  {
   "cell_type": "markdown",
   "metadata": {},
   "source": [
    "Spurious LaTeX math example here\n",
    "\n",
    "$$\n",
    "f(x) = \\int_{-\\infty}^{\\infty} e^{-x^2} dx\n",
    "$$\n"
   ]
  },
  {
   "cell_type": "markdown",
   "metadata": {},
   "source": [
    "#### Initialize a Python version of swb"
   ]
  },
  {
   "cell_type": "code",
   "execution_count": null,
   "metadata": {},
   "outputs": [],
   "source": [
    "mycell.init_swb_cell()"
   ]
  },
  {
   "cell_type": "markdown",
   "metadata": {},
   "source": [
    "#### Iterate and solve the water budget in Python over the date range contained in the swb2 output file"
   ]
  },
  {
   "cell_type": "code",
   "execution_count": null,
   "metadata": {},
   "outputs": [],
   "source": [
    "for index, row in swb_df.iterrows():\n",
    "    mycell.calc_cell_water_budget(int(row['year']),int(row['month']),int(row['day']),\n",
    "                                  row['tmin'],row['tmax'],row['tmean'],row['gross_precip'])\n",
    "    mycell.variables_todict()"
   ]
  },
  {
   "cell_type": "markdown",
   "metadata": {},
   "source": [
    "#### Convert the output dictionary to a dataframe"
   ]
  },
  {
   "cell_type": "code",
   "execution_count": null,
   "metadata": {},
   "outputs": [],
   "source": [
    "mycell.convert_dict_to_df()\n",
    "py_df = mycell.output_df.copy()\n",
    "py_df.loc[:,'date'] = pd.to_datetime(py_df['date'])"
   ]
  },
  {
   "cell_type": "markdown",
   "metadata": {},
   "source": [
    "#### Merge the swb and python model outputs into a single dataframe"
   ]
  },
  {
   "cell_type": "code",
   "execution_count": null,
   "metadata": {},
   "outputs": [],
   "source": [
    "df = pd.merge(left=swb_df, right=py_df, on='date', suffixes=('_s','_p'))\n",
    "df.columns"
   ]
  },
  {
   "cell_type": "code",
   "execution_count": null,
   "metadata": {},
   "outputs": [],
   "source": [
    "# estimate 'P minus PET' for swb\n",
    "df['p_minus_pet_s'] = (df['snowmelt_s'] + df['rainfall_s'] - df['crop_etc']) * 25.4"
   ]
  },
  {
   "cell_type": "code",
   "execution_count": null,
   "metadata": {},
   "outputs": [],
   "source": [
    "my_subset = df[(df['date'] > \"1967-05-01\") & (df['date'] < \"1967-05-20\")]\n",
    "#my_subset[['date','tmin','tmax','tmean','tminf','tmaxf','tmeanf','gross_precip','soil_storage_s','soil_storage_p',\n",
    "#           'infiltration', 'p_minus_pet_s','p_minus_pet',\n",
    "#           'reference_ET0','pet','actual_ET','aet']]"
   ]
  },
  {
   "cell_type": "code",
   "execution_count": null,
   "metadata": {},
   "outputs": [],
   "source": [
    "fig, ax = plt.subplots(1,1,figsize=(12, 8),sharex=False)\n",
    "ax.plot(df['date'], df['snowfall_s'], marker='.', linestyle=' ', color='blue', markersize=4, label='SWB snowfall')\n",
    "ax.plot(df['date'], df['snowfall_p'], marker=' ', linestyle='-', \n",
    "        color='black', linewidth=0.75, label='Python model snowfall')\n",
    "ax.legend()"
   ]
  },
  {
   "cell_type": "code",
   "execution_count": null,
   "metadata": {},
   "outputs": [],
   "source": [
    "fig, ax = plt.subplots(1,1,figsize=(12, 8),sharex=False)\n",
    "ax.plot(df['date'], df['snowmelt_s'], marker='.', linestyle=' ', color='pink', markersize=4, label='SWB snowmelt')\n",
    "ax.plot(df['date'], df['snowmelt_p'], marker=' ', linestyle='-', \n",
    "        color='black', linewidth=0.5, label='Python model snowmelt')\n",
    "ax.legend()"
   ]
  },
  {
   "cell_type": "code",
   "execution_count": null,
   "metadata": {},
   "outputs": [],
   "source": [
    "fig, ax = plt.subplots(1,1,figsize=(12, 8),sharex=False)\n",
    "ax.plot(df['date'], df['reference_ET0'], marker='.', linestyle=' ', color='cyan', markersize=4, label='SWB reference ET0')\n",
    "ax.plot(df['date'], df['pet'], marker=' ', linestyle='-', \n",
    "        color='black', linewidth=0.75, label='Python model reference ET0')\n",
    "ax.legend()"
   ]
  },
  {
   "cell_type": "code",
   "execution_count": null,
   "metadata": {},
   "outputs": [],
   "source": [
    "fig, ax = plt.subplots(1,1,figsize=(12, 8),sharex=False)\n",
    "ax.plot(df['date'], df['snow_storage_s'], marker='.', linestyle=' ', color='purple', markersize=4, label='SWB snow storage')\n",
    "ax.plot(df['date'], df['snow_storage_p'], marker=' ', linestyle='-', \n",
    "        color='black', linewidth=0.75, label='Python model snow storage')\n",
    "ax.legend()"
   ]
  },
  {
   "cell_type": "code",
   "execution_count": null,
   "metadata": {},
   "outputs": [],
   "source": [
    "fig, ax = plt.subplots(1,1,figsize=(12, 8),sharex=False)\n",
    "ax.plot(df['date'], df['soil_storage_s'], marker='.', linestyle=' ', color='green', markersize=4, label='SWB soil moisture')\n",
    "ax.plot(df['date'], df['soil_storage_p'], marker=' ', linestyle='-', \n",
    "        color='black', linewidth=0.75, label='Python model soil moisture')\n",
    "ax.legend()\n",
    "#ax2 = ax.twinx()\n",
    "#ax2.plot(df['date'], df['infiltration'], color='blue', linewidth=0.4)\n",
    "#ax2.plot(df['date'], df['infiltration'], color='blue', marker='.', markersize=8)\n"
   ]
  },
  {
   "cell_type": "code",
   "execution_count": null,
   "metadata": {},
   "outputs": [],
   "source": [
    "myplot = df.plot('date',['reference_ET0','actual_ET'], figsize=(12,4))"
   ]
  },
  {
   "cell_type": "code",
   "execution_count": null,
   "metadata": {},
   "outputs": [],
   "source": [
    "fig, ax = plt.subplots(1,1,figsize=(12, 8),sharex=False)\n",
    "ax.plot(df['date'], df['net_infiltration_s'], marker='.', linestyle=' ', color='orange', markersize=4, label='SWB net infiltration')\n",
    "ax.plot(df['date'], df['net_infiltration_p'], marker=' ', linestyle='-', \n",
    "        color='black', linewidth=0.75, label='Python model net infiltration')\n",
    "ax.legend()"
   ]
  },
  {
   "cell_type": "code",
   "execution_count": null,
   "metadata": {},
   "outputs": [],
   "source": [
    "fig, ax = plt.subplots(1,1,figsize=(12, 8),sharex=False)\n",
    "ax.plot(df['date'], df['actual_ET'], marker='.', linestyle=' ', color='green', markersize=4, label='SWB actual ET')\n",
    "ax.plot(df['date'], df['aet'], marker=' ', linestyle='-', color='black',\n",
    "        linewidth=0.75, label='Python model actual ET')\n",
    "ax.legend()"
   ]
  }
 ],
 "metadata": {
  "kernelspec": {
   "display_name": "Python 3",
   "language": "python",
   "name": "python3"
  },
  "language_info": {
   "codemirror_mode": {
    "name": "ipython",
    "version": 3
   },
   "file_extension": ".py",
   "mimetype": "text/x-python",
   "name": "python",
   "nbconvert_exporter": "python",
   "pygments_lexer": "ipython3",
   "version": "3.10.11"
  },
  "orig_nbformat": 4
 },
 "nbformat": 4,
 "nbformat_minor": 2
}
