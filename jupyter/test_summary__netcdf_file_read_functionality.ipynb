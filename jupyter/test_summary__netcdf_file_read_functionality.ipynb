{
 "cells": [
  {
   "cell_type": "markdown",
   "metadata": {},
   "source": [
    "# Test of netCDF file read functionality: summary\n",
    "\n",
    "This notebook summarizes the results of netCDF file read capability for SWB2. The intent is to at a minimum verify that commonly used files that contain daily weather data can be read into SWB without distortion, warping, or inversion (north-to-south or east-to-west). A summary table is first, followed by a discussion of each of the individual data sources tested, along with notes on what SWB2 control file items needed to be included.\n",
    "\n",
    "Note that this testing is not automated in any way. The tests here represent results for a particular dataset as run with a specific SWB2 version. "
   ]
  },
  {
   "cell_type": "markdown",
   "metadata": {},
   "source": [
    "| dataset name                  | resolution     | dataset version                    | test result    | link                          |\n",
    "|-------------------------------|----------------|------------------------------------|----------------|-------------------------------|\n",
    "| Daymet                        | ~ 1km          | version 4, downloaded 2023-01-24   | passed         | https://daymet.ornl.gov/\n",
    "| Gridmet                       | ~ 4km          | 2023-01-31                         | passed         | https://www.climatologylab.org/gridmet.html |\n",
    "| nclimgrid                     | ~ 5km           | downloaded 2024-03-01              | passed         | https://www.ncei.noaa.gov/products/land-based-station/nclimgrid-daily |\n"
   ]
  },
  {
   "cell_type": "markdown",
   "metadata": {},
   "source": []
  }
 ],
 "metadata": {
  "kernelspec": {
   "display_name": "Python 3",
   "language": "python",
   "name": "python3"
  },
  "language_info": {
   "codemirror_mode": {
    "name": "ipython",
    "version": 3
   },
   "file_extension": ".py",
   "mimetype": "text/x-python",
   "name": "python",
   "nbconvert_exporter": "python",
   "pygments_lexer": "ipython3",
   "version": "3.12.1"
  }
 },
 "nbformat": 4,
 "nbformat_minor": 2
}
