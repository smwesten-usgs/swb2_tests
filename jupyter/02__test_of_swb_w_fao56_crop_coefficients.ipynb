{
 "cells": [
  {
   "cell_type": "markdown",
   "metadata": {},
   "source": [
    "# Test 2: Basic SWB2 options and FAO56 crop coefficients\n",
    "\n",
    "This test combines the most commonly used SWB2 program options and completes a model run using tabular precipitation and air tempterature inputs. The output is compared to the same calculations made using a simple Python version of the same algorithms. _FAO56 crop coefficient curves are used to define crop water demand, and the soil-moisture-retention relation is based on the FAO56 methodology. This test provides checks on the following functionality:\n",
    "\n",
    "1. Proper timing and definition of the FAO56 crop coefficient curves;\n",
    "2. Faithful representation of the soil-moisture-retention relation used in the FAO546 methodology. \n",
    "\n",
    "For this test, a curve number of '0' is used in the SWB run, essentially ensuring that there is never any runoff calculated in SWB. This is done to make the initial comparison to the Thornthwaite-Mather soil-moisture-retention tables easier to understand. The only active sources of water are rainfall and snowmelt; the sinks are actual evapotranspiration and net infiltration. \n",
    "\n",
    "The first half of this notebook may be skipped unless one is interested in the details of how the various model runs are set up. Basically, a simple SWB2 model is executed, followed by a set of Python implementations of SWB2. The results are compared in the last half of this notebook."
   ]
  },
  {
   "cell_type": "markdown",
   "metadata": {},
   "source": [
    "## Test setup"
   ]
  },
  {
   "cell_type": "code",
   "execution_count": 1,
   "metadata": {},
   "outputs": [],
   "source": [
    "# high-level imports\n",
    "import pandas as pd\n",
    "import matplotlib.pyplot as plt\n",
    "import pathlib as pl\n",
    "import sys\n",
    "import subprocess"
   ]
  },
  {
   "cell_type": "markdown",
   "metadata": {},
   "source": [
    "#### Define paths to swb2 executable and working/input data directories"
   ]
  },
  {
   "cell_type": "code",
   "execution_count": 5,
   "metadata": {},
   "outputs": [],
   "source": [
    "# define working directories for use in making a forward run of SWB2\n",
    "base_dir = str(pl.Path.cwd().parent)\n",
    "python_script_dir = pl.Path.cwd().parent / 'python'\n",
    "swb_work_dir = pl.Path.cwd().parent / 'swb_work'\n",
    "logfile_dir = pl.Path.cwd().parent / 'logfiles'\n",
    "test_data_dir = pl.Path.cwd().parent / 'test_data'\n",
    "output_dir = pl.Path.cwd().parent / 'output'\n",
    "swb2_executable = str(pl.Path.cwd().parent / 'bin' /'swb2.exe')\n",
    "sys.path.append(str(python_script_dir))\n",
    "\n",
    "from swb_cell__fao56 import SWBCell__FAO56\n",
    "import run_management as rm"
   ]
  },
  {
   "cell_type": "markdown",
   "metadata": {},
   "source": [
    "#### Remove and replace working directories for swb2 run"
   ]
  },
  {
   "cell_type": "code",
   "execution_count": null,
   "metadata": {},
   "outputs": [],
   "source": [
    "rm.destroy_model_work_output_and_logfile_dirs(base_dir=base_dir,\n",
    "                                              swb_work_dir=swb_work_dir,\n",
    "                                              logfile_dir=logfile_dir,\n",
    "                                              output_dir=output_dir)\n",
    "rm.create_model_work_output_and_logfile_dirs(base_dir=base_dir,\n",
    "                                             swb_work_dir=swb_work_dir,\n",
    "                                             logfile_dir=logfile_dir,\n",
    "                                             output_dir=output_dir)\n"
   ]
  },
  {
   "cell_type": "markdown",
   "metadata": {},
   "source": [
    "#### Make a new swb2 model run for a single cell example\n",
    "\n",
    "In the following step, a new swb2 model run is started using a pre-configured swb control file. The swb model contains a single cell. Daily weather data is a table of precipitation and tmax/tmin values. The test case is centered on the airport at Kenai, Alaska."
   ]
  },
  {
   "cell_type": "code",
   "execution_count": null,
   "metadata": {},
   "outputs": [],
   "source": [
    "dry_run = False\n",
    "lookup_dir_arg_text = f\"--lookup_dir={str(test_data_dir)}\"\n",
    "weather_data_dir_arg_text = f\"--weather_data_dir={str(test_data_dir)}\"\n",
    "output_dir_arg_text = f\"--output_dir={str(output_dir)}\"\n",
    "logfile_dir_arg_text = f\"--logfile_dir={str(logfile_dir)}\"\n",
    "control_file_path = str(test_data_dir / 'swb_control_file_kenai.ctl')\n",
    "output_prefix = '--output_prefix=swb_kenai_'\n",
    "\n",
    "swb_arg_text = [swb2_executable, output_dir_arg_text, lookup_dir_arg_text, weather_data_dir_arg_text, output_prefix, logfile_dir_arg_text, control_file_path]\n",
    "\n",
    "f = open(\"stdout.txt\", \"w\")\n",
    "\n",
    "if not dry_run:\n",
    "  with rm.cd(swb_work_dir):\n",
    "#    p = subprocess.Popen(swb_arg_text, stdout=subprocess.DEVNULL, stderr=subprocess.DEVNULL)\n",
    "    p = subprocess.Popen(swb_arg_text, stdout=f, stderr=subprocess.DEVNULL)\n",
    "    p.wait()"
   ]
  },
  {
   "cell_type": "markdown",
   "metadata": {},
   "source": [
    "#### Read in swb2 model results"
   ]
  },
  {
   "cell_type": "code",
   "execution_count": null,
   "metadata": {},
   "outputs": [],
   "source": [
    "swb_df = pd.read_csv(pl.Path(output_dir, 'SWB2_variable_values__Kenai_Airpt__col_1__row_1__x_150393__y_1179331.csv'))\n",
    "# eliminate pesky spaces around column names\n",
    "swb_df.columns = swb_df.columns.str.replace(' ', '')\n",
    "swb_df.columns"
   ]
  },
  {
   "cell_type": "markdown",
   "metadata": {},
   "source": [
    "#### Convert swb Imperial units to metric"
   ]
  },
  {
   "cell_type": "code",
   "execution_count": null,
   "metadata": {},
   "outputs": [],
   "source": [
    "swb_df['tminf'] = swb_df.loc[:,'tmin']\n",
    "swb_df['tmaxf'] = swb_df.loc[:,'tmax']\n",
    "swb_df['tmeanf'] = swb_df.loc[:,'tmean']\n",
    "swb_df.loc[:,'tmin'] = (swb_df.loc[:,'tmin'] - 32) / 1.8\n",
    "swb_df.loc[:,'tmax'] = (swb_df.loc[:,'tmax'] - 32) / 1.8\n",
    "swb_df.loc[:,'tmean'] = (swb_df.loc[:,'tmean'] - 32) / 1.8\n",
    "swb_df.loc[:,'gross_precip'] = swb_df.loc[:,'gross_precip'] * 25.4\n",
    "swb_df.loc[:,'rainfall'] = swb_df.loc[:,'rainfall'] * 25.4\n",
    "swb_df.loc[:,'actual_ET'] = swb_df.loc[:,'actual_ET'] * 25.4\n",
    "swb_df.loc[:,'reference_ET0'] = swb_df.loc[:,'reference_ET0'] * 25.4\n",
    "swb_df.loc[:,'soil_storage'] = swb_df.loc[:,'soil_storage'] * 25.4\n",
    "swb_df.loc[:,'snow_storage'] = swb_df.loc[:,'snow_storage'] * 25.4\n",
    "swb_df.loc[:,'snowfall'] = swb_df.loc[:,'snowfall'] * 25.4\n",
    "swb_df.loc[:,'snowmelt'] = swb_df.loc[:,'snowmelt'] * 25.4\n",
    "swb_df.loc[:,'net_infiltration'] = swb_df.loc[:,'net_infiltration'] * 25.4\n",
    "swb_df.loc[:,'infiltration'] = swb_df.loc[:,'infiltration'] * 25.4\n",
    "\n",
    "swb_df['date'] = pd.to_datetime(swb_df['date'])"
   ]
  },
  {
   "cell_type": "markdown",
   "metadata": {},
   "source": [
    "#### Create a Python versions of a swb2 cell\n",
    "\n",
    "Three simple Python implementations of a SWB cell are created here. The implementations differ only in the way that the soil-moisture-retention relations are implemented. The current method of choice in the compiled SWB2 code uses a simple exponential relation. Previous versions of the code used table values directly (SWB1), or used fitted equations to approximate the table values (SWB2)."
   ]
  },
  {
   "cell_type": "code",
   "execution_count": null,
   "metadata": {},
   "outputs": [],
   "source": [
    "# swb2 still uses Imperial units (inches and feet); the Python code expects metric units (mm and m).\n",
    "# The example control file we're using for swb2 specifies 3.6 inches/foot for the available water capacity.\n",
    "# 3.6 inches per foot equals 300 mm/m. The rooting depth is specified in the swb2 lookup table as 1.6404 feet, \n",
    "# or 1.6404 ft / 3.2808 ft/m = 0.5 m\n",
    "mycell_exp = SWBCell(latitude=60.57154, available_water_capacity=300., rooting_depth=1.0, calculation_method='tm_exp')\n",
    "\n",
    "mycell_tab = SWBCell(latitude=60.57154, available_water_capacity=300., rooting_depth=1.0, calculation_method='tm_table',\n",
    "                    thornthwaite_mather_df=tm_soil_moisture_retention_df)\n",
    "\n",
    "mycell_eqns = SWBCell(latitude=60.57154, available_water_capacity=300., rooting_depth=1.0, calculation_method='tm_eqns')"
   ]
  },
  {
   "cell_type": "markdown",
   "metadata": {},
   "source": [
    "#### Initialize Python versions of swb"
   ]
  },
  {
   "cell_type": "code",
   "execution_count": null,
   "metadata": {},
   "outputs": [],
   "source": [
    "mycell_exp.init_swb_cell()\n",
    "mycell_tab.init_swb_cell()\n",
    "mycell_eqns.init_swb_cell()"
   ]
  },
  {
   "cell_type": "markdown",
   "metadata": {},
   "source": [
    "#### Iterate and solve the water budget in Python over the date range contained in the swb2 output file\n",
    "There are three Python versions. The first uses an exponential decay function to approximate the Thornthwaite-Mather (TM) soil moisture retention tables. The second version actually looks up the TM table values directly; the third method uses a set of fitted equations to interpolate between table values."
   ]
  },
  {
   "cell_type": "code",
   "execution_count": null,
   "metadata": {},
   "outputs": [],
   "source": [
    "for index, row in swb_df.iterrows():\n",
    "    year = int(row['year'])\n",
    "    month = int(row['month'])\n",
    "    day = int(row['day'])\n",
    "    # exponential decay to approximate TM\n",
    "    mycell_exp.calc_cell_water_budget(year, month, day,\n",
    "                                      row['tmin'],row['tmax'],row['tmean'],row['gross_precip'])\n",
    "    mycell_exp.variables_todict()\n",
    "    # TM table values read in directly\n",
    "    mycell_tab.calc_cell_water_budget(year, month, day,\n",
    "                                      row['tmin'],row['tmax'],row['tmean'],row['gross_precip'])\n",
    "    mycell_tab.variables_todict()\n",
    "    # TM tables approximated by fitted equations to interpolate between table values\n",
    "    mycell_eqns.calc_cell_water_budget(year, month, day,\n",
    "                                       row['tmin'],row['tmax'],row['tmean'],row['gross_precip'])\n",
    "    mycell_eqns.variables_todict()\n",
    "    print(f\"making calculation for {year}-{month}-{day}\")"
   ]
  },
  {
   "cell_type": "markdown",
   "metadata": {},
   "source": [
    "#### Convert the output dictionaries to dataframes"
   ]
  },
  {
   "cell_type": "code",
   "execution_count": null,
   "metadata": {},
   "outputs": [],
   "source": [
    "mycell_exp.convert_dict_to_df()\n",
    "py_exp_df = mycell_exp.output_df.copy()\n",
    "py_exp_df.loc[:,'date'] = pd.to_datetime(py_exp_df['date'])"
   ]
  },
  {
   "cell_type": "code",
   "execution_count": null,
   "metadata": {},
   "outputs": [],
   "source": [
    "mycell_tab.convert_dict_to_df()\n",
    "py_tab_df = mycell_tab.output_df.copy()\n",
    "py_tab_df.loc[:,'date'] = pd.to_datetime(py_tab_df['date'])"
   ]
  },
  {
   "cell_type": "code",
   "execution_count": null,
   "metadata": {},
   "outputs": [],
   "source": [
    "mycell_eqns.convert_dict_to_df()\n",
    "py_eqns_df = mycell_eqns.output_df.copy()\n",
    "py_eqns_df.loc[:,'date'] = pd.to_datetime(py_eqns_df['date'])"
   ]
  },
  {
   "cell_type": "markdown",
   "metadata": {},
   "source": [
    "#### Merge the swb and python model outputs into a single dataframe"
   ]
  },
  {
   "cell_type": "code",
   "execution_count": null,
   "metadata": {},
   "outputs": [],
   "source": [
    "df = pd.merge(left=py_exp_df, right=py_tab_df, on='date', suffixes=('_e','_t'))\n",
    "df = pd.merge(left=df, right=py_eqns_df, on='date', suffixes=(None,'_q'))\n",
    "df = pd.merge(left=df, right=swb_df, on='date', suffixes=(None, '_s'))\n",
    "display(df.columns.to_list())"
   ]
  },
  {
   "cell_type": "code",
   "execution_count": null,
   "metadata": {},
   "outputs": [],
   "source": [
    "# estimate 'P minus PET' for swb\n",
    "df['p_minus_pet'] = (df['snowmelt'] + df['rainfall'] - df['crop_etc']) * 25.4"
   ]
  },
  {
   "cell_type": "markdown",
   "metadata": {},
   "source": [
    "## Test comparisons"
   ]
  },
  {
   "cell_type": "code",
   "execution_count": null,
   "metadata": {},
   "outputs": [],
   "source": [
    "my_subset = df[(df['date'] > \"1967-01-01\") & (df['date'] < \"1968-12-31\")]\n",
    "#my_subset[['date','tmin','tmax','tmean','tminf','tmaxf','tmeanf','gross_precip','soil_storage_s','soil_storage_p',\n",
    "#           'infiltration', 'p_minus_pet_s','p_minus_pet',\n",
    "#           'reference_ET0','pet','actual_ET','aet']]\n",
    "df = my_subset"
   ]
  },
  {
   "cell_type": "markdown",
   "metadata": {},
   "source": [
    "### SNOWFALL"
   ]
  },
  {
   "cell_type": "markdown",
   "metadata": {},
   "source": [
    "SWB2 uses the same empirical relations as were used in Dripps (2003) and Dripps and Bradbury (2007) to partition gross precipitation into 'rainfall' and 'snowfall'.\n",
    "\n",
    "\n",
    "$$\n",
    "snow: T_{mean} - \\frac{1}{3}(T_{max} - T_{min}) \\leq 32\n",
    "$$\n",
    "$$\n",
    "rain: T_{mean} - \\frac{1}{3}(T_{max} - T_{min}) > 32\n",
    "$$\n",
    "\n",
    "where:\n",
    "\n",
    "$T_{mean}$ is the mean daily air temperature, in degrees Fahrenheit,\n",
    "\n",
    "$T_{max}$ is the maximum daily air temperature, in degrees Fahrenheit,\n",
    "\n",
    "$T_{mean}$ is the minimum daily air temperature, in degrees Fahrenheit.\n"
   ]
  },
  {
   "cell_type": "code",
   "execution_count": null,
   "metadata": {},
   "outputs": [],
   "source": [
    "fig, ax = plt.subplots(1,1,figsize=(12, 8),sharex=False)\n",
    "ax.plot(df['date'], df['snowfall'], marker='.', linestyle=' ', color='blue', markersize=4, label='SWB snowfall')\n",
    "ax.plot(df['date'], df['snowfall_e'], marker=' ', linestyle='-', \n",
    "        color='black', linewidth=0.75, label='Python model snowfall')\n",
    "ax.set_ylabel('snowfall, in millimeters')\n",
    "ax.set_title('Snowfall comparison: SWB code to Python implementation')\n",
    "ax.legend()"
   ]
  },
  {
   "cell_type": "markdown",
   "metadata": {},
   "source": [
    "### SNOWMELT\n",
    "\n",
    "SWB2 uses the same empirical relations as were used in Dripps (2003) and Dripps and Bradbury (2007) to estimate the potential snowmelt from accumulated snowpack on a given day. Actual snowmelt is limited by the amount of moisture stored in the snow storage reservoir.\n",
    "\n",
    "\n",
    "$$\n",
    "potential\\, snowmelt = 1.5 \\cdot (T_{max}), \\, T_{max} > 0\n",
    "$$\n",
    "\n",
    "where:\n",
    "\n",
    "$potential\\, snowmelt$ is in millimeters, and\n",
    "\n",
    "$T_{max}$ is the maximum daily air temperature, in degrees Celsius."
   ]
  },
  {
   "cell_type": "code",
   "execution_count": null,
   "metadata": {},
   "outputs": [],
   "source": [
    "fig, ax = plt.subplots(1,1,figsize=(12, 8),sharex=False)\n",
    "ax.plot(df['date'], df['snowmelt'], marker='.', linestyle=' ', color='red', markersize=4, label='SWB snowmelt')\n",
    "ax.plot(df['date'], df['snowmelt_e'], marker=' ', linestyle='-', \n",
    "        color='black', linewidth=0.5, label='Python model snowmelt')\n",
    "ax.set_ylabel('snowmelt, in millimeters')\n",
    "ax.set_title('Snowmelt comparison: SWB code to Python implementation')\n",
    "ax.legend()"
   ]
  },
  {
   "cell_type": "markdown",
   "metadata": {},
   "source": [
    "### SNOW STORAGE\n",
    "\n",
    "Snow storage evolves over the course of a run, with the snowfall and snowmelt calculated as noted above. If the snowfall and snowmelt components are consistent between the SWB code and the Python code, the snow storage evolution over time should be consistent as well."
   ]
  },
  {
   "cell_type": "code",
   "execution_count": null,
   "metadata": {},
   "outputs": [],
   "source": [
    "fig, ax = plt.subplots(1,1,figsize=(12, 8),sharex=False)\n",
    "ax.plot(df['date'], df['snow_storage'], marker='.', linestyle=' ', color='purple', markersize=4, label='SWB snow storage')\n",
    "ax.plot(df['date'], df['snow_storage_e'], marker=' ', linestyle='-', \n",
    "        color='black', linewidth=0.75, label='Python model snow storage')\n",
    "ax.set_ylabel('snow storage, in millimeters')\n",
    "ax.set_title('Snow comparison: SWB code to Python implementation')\n",
    "ax.legend()"
   ]
  },
  {
   "cell_type": "markdown",
   "metadata": {},
   "source": [
    "### SOIL STORAGE / SOIL-MOISTURE RETENTION\n",
    "\n",
    "The first versions of the SWB code included extensive routines to read in and interpolate the tables of soil-moisture-retention data included in the appendixes of Thornthwaite and Mather (1957). Making daily calculations with the Thornthwaite-Mather tables involves consulting the soil-moisture retention tables for each days' worth of calculations. When precipitation is less than the potential or reference ET, the tables are consulted to first provide an updated value for the accumulated potential water loss, and then to calculate an updated soil moisture value. After working with the tables for some time, however, it became clear that the values are simply tabulated values calculated from an exponential relation relating the current days' soil moisture to the previous days' soil moisture (Alley, 1984): \n",
    "\n",
    "$$\n",
    "S_i = S_{i-1} \\,e^\\frac{-(PE_i - P_i)}{\\phi}\n",
    "$$\n",
    "\n",
    "where:\n",
    "\n",
    "$S_i$ is the soil moisture on day $i$, in millimeters\n",
    "\n",
    "$S_{i-1}$ is the soil moisture on day $i-1$, in millimeters\n",
    "\n",
    "$PE$ is the potential evapotranspiration, in millimeters\n",
    "\n",
    "$P$ is the daily precipitation amount, in millimeters, and\n",
    "\n",
    "$\\phi$ is the size of the soil moisture reservoir, in millimeters.\n",
    "\n",
    "Note in the figure below (top plot) that using the table values directly results in some minor departure from the calculations made with the exponential or fitted equation versions. This is likely because the tabular values are all truncated to 1mm of resolution with respect to the current values of moisture retained in the soil. There is a bit of roundoff error involved when using the tabular values directly. The issue with roundoff is lessened when equations fitted to the tabular values are used rather than the table values directly (bottom plot). "
   ]
  },
  {
   "cell_type": "code",
   "execution_count": null,
   "metadata": {},
   "outputs": [],
   "source": [
    "fig = plt.figure(figsize=(14, 16))\n",
    "\n",
    "ax = fig.add_subplot(2,1,1)\n",
    "ax.plot(df['date'], df['soil_storage'], marker='.', linestyle=' ', color='green', markersize=4, label='SWB')\n",
    "ax.plot(df['date'], df['soil_storage_t'], marker='.', linestyle='-', color='darkgray', markersize=3, label='Python model (table)')\n",
    "ax.plot(df['date'], df['soil_storage_e'], marker=' ', linestyle='-', \n",
    "        color='blue', linewidth=0.5, label='Python model (exp)')\n",
    "ax.set_ylabel('Soil moisture storage, millimeters')\n",
    "ax.legend()\n",
    "\n",
    "ax = fig.add_subplot(2,1,2)\n",
    "ax.plot(df['date'], df['soil_storage'], marker='.', linestyle=' ', color='green', markersize=4, label='SWB')\n",
    "ax.plot(df['date'], df['soil_storage'], marker='.', linestyle='-', color='darkgray', markersize=3, label='Python model (eqns)')\n",
    "ax.plot(df['date'], df['soil_storage_e'], marker=' ', linestyle='-', \n",
    "        color='blue', linewidth=0.5, label='Python model (exp)')\n",
    "ax.set_ylabel('Soil moisture storage, millimeters')\n",
    "ax.legend()\n"
   ]
  },
  {
   "cell_type": "markdown",
   "metadata": {},
   "source": [
    "### REFERENCE EVAPOTRANSPIRATION\n",
    "\n",
    "This test case makes use of the Hargreaves-Samani method for estimating reference evapotranspiration from only minumum and maximum daily air temperatures. There is a cascade of calculations that go into calculating reference ET using Hargreaves and Samani. First, the code makes a number of calculations relating to the potential amount of solar radiation, including the relative earth-sun distance, solar declination, and sunset angle given the current day of the year within the simulation. The difference between $T_{max}$ and $T_{min}$ is used as a proxy for the amount of potential solar radiation that reaches the land surface, and directly influences the total reference evapotranspiration calculated on a particular day."
   ]
  },
  {
   "cell_type": "code",
   "execution_count": null,
   "metadata": {},
   "outputs": [],
   "source": [
    "fig, ax = plt.subplots(1,1,figsize=(12, 8),sharex=False)\n",
    "ax.plot(df['date'], df['reference_ET0'], marker='.', linestyle=' ', color='cyan', markersize=4, label='SWB reference ET0')\n",
    "ax.plot(df['date'], df['pet_e'], marker=' ', linestyle='-', \n",
    "        color='black', linewidth=0.75, label='Python model reference ET0')\n",
    "ax.legend()"
   ]
  },
  {
   "cell_type": "markdown",
   "metadata": {},
   "source": [
    "### ACTUAL EVAPOTRANSPIRATION"
   ]
  },
  {
   "cell_type": "code",
   "execution_count": null,
   "metadata": {},
   "outputs": [],
   "source": [
    "fig = plt.figure(figsize=(16, 14))\n",
    "ax = fig.add_subplot(2,1,1)\n",
    "ax.plot(df['date'], df['actual_ET'], marker='.', linestyle=' ', color='green', markersize=6, label='SWB actual ET')\n",
    "ax.plot(df['date'], df['aet_t'], marker='.', linestyle='-', color='darkgray', markersize=3, label='Python model (table) actual et')\n",
    "ax.plot(df['date'], df['aet_e'], marker=' ', linestyle='-', \n",
    "        color='lightgreen', linewidth=0.5, label='Python model (exp) actual et')\n",
    "ax.set_ylabel('Actual evapotranspiration, millimeters')\n",
    "ax.legend()"
   ]
  },
  {
   "cell_type": "markdown",
   "metadata": {},
   "source": [
    "### NET INFILTRATION"
   ]
  },
  {
   "cell_type": "code",
   "execution_count": null,
   "metadata": {},
   "outputs": [],
   "source": [
    "fig, ax = plt.subplots(1,1,figsize=(12, 8),sharex=False)\n",
    "ax.plot(df['date'], df['net_infiltration'], marker='.', linestyle=' ', color='orange', markersize=4, label='SWB net infiltration')\n",
    "ax.plot(df['date'], df['net_infiltration_t'], marker=' ', linestyle='-', \n",
    "        color='black', linewidth=0.75, label='Python model net infiltration (table)')\n",
    "ax.legend()"
   ]
  },
  {
   "cell_type": "code",
   "execution_count": null,
   "metadata": {},
   "outputs": [],
   "source": [
    "fig, ax = plt.subplots(1,1,figsize=(12, 8),sharex=False)\n",
    "ax.plot(df['date'], df['actual_ET'], marker='.', linestyle=' ', color='green', markersize=4, label='SWB actual ET (tables)')\n",
    "ax.plot(df['date'], df['aet_t'], marker=' ', linestyle='-', color='black',\n",
    "        linewidth=0.75, label='Python model actual ET')\n",
    "ax.legend()\n",
    "ax2 = ax.twinx()\n",
    "ax2.plot(df['date'], df['rainfall'], color='blue', linewidth=0.4)\n",
    "ax2.plot(df['date'], df['snowmelt'], color='red', linewidth=0.4 )"
   ]
  },
  {
   "cell_type": "code",
   "execution_count": null,
   "metadata": {},
   "outputs": [],
   "source": []
  },
  {
   "cell_type": "code",
   "execution_count": null,
   "metadata": {},
   "outputs": [],
   "source": []
  }
 ],
 "metadata": {
  "kernelspec": {
   "display_name": "Python 3",
   "language": "python",
   "name": "python3"
  },
  "language_info": {
   "codemirror_mode": {
    "name": "ipython",
    "version": 3
   },
   "file_extension": ".py",
   "mimetype": "text/x-python",
   "name": "python",
   "nbconvert_exporter": "python",
   "pygments_lexer": "ipython3",
   "version": "3.11.9"
  },
  "orig_nbformat": 4
 },
 "nbformat": 4,
 "nbformat_minor": 2
}
