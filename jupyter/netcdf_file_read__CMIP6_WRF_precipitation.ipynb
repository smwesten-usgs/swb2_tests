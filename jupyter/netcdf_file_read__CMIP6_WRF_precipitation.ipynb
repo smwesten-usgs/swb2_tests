{
 "cells": [
  {
   "cell_type": "markdown",
   "metadata": {},
   "source": [
    "# Test: reading CMIP6/WRF gridded precipitation\n",
    "\n",
    "This test is designed to read a small number of days of CMIP6/WRF data and compare the raw CMIP6/WRF gridded data to the values that end up in the SWB model. There are many ways that incorrect values can be read from netCDF and make their way into a SWB calculation. Therefore, it is important to verify that the CMIP6/WRF grid is being read in correctly and that the values from CMIP6/WRF end up in the proper SWB grid cell.\n",
    "\n",
    "This notebook is organized into two sections: 'test setup' and 'test comparisons'. To make the comparison, a test grid centered on the state of Minnesota is created, and SWB is run for a 14-day period. Only a short simulation is needed to verify that the CMIP6/WRF netCDF file contents are read in and distributed to the proper SWB gridcells.\n",
    "\n",
    "The strategy for comparison is straighforward. Pyproj is used to establish coordinate reference systems (CRS) for the CMIP6/WRF dataset and the SWB grid. CMIP6/WRF uses a geodetic CRS, WGS84, with coordinates given as latitude and longitude, while the SWB grid uses an Albert Equal Area projection (EPSG 5070). First, a random sample of x and y coordinates is pulled from the SWB grid. Values corresponding to the SWB coordinates are pulled from the SWB output grid. The SWB grid coordinates are transformed using Pyproj from the SWB grid CRS to the CMIP6/WRF CRS. The values nearest to the generated CMIP6/WRF coordinates are then extracted from the CMIP6/WRF grid. If the SWB code is properly performing a nearest-neighbor search, the SWB grid results (as read in) and the CMIP6/WRF grid results (extracted as described) should be identical."
   ]
  },
  {
   "cell_type": "markdown",
   "metadata": {},
   "source": [
    "## Test setup"
   ]
  },
  {
   "cell_type": "code",
   "execution_count": null,
   "metadata": {},
   "outputs": [],
   "source": [
    "import xarray as xr\n",
    "import pathlib as pl\n",
    "import pyproj as pp\n",
    "import pandas as pd\n",
    "import matplotlib.pyplot as plt\n",
    "import subprocess\n",
    "import sys\n",
    "import random as rnd"
   ]
  },
  {
   "cell_type": "markdown",
   "metadata": {},
   "source": [
    "#### Define paths to swb2 executable and working/input data directories"
   ]
  },
  {
   "cell_type": "code",
   "execution_count": null,
   "metadata": {},
   "outputs": [],
   "source": [
    "# define working directories for use in making a forward run of SWB2\n",
    "base_dir = str(pl.Path.cwd().parent)\n",
    "python_script_dir = pl.Path.cwd().parent / 'python'\n",
    "swb_work_dir = 'test__netcdf_CMIP6-WRF'\n",
    "logfile_dir = 'logfiles'\n",
    "test_data_dir = pl.Path.cwd().parent / 'test_data'\n",
    "output_dir = 'output'\n",
    "swb2_executable = str(pl.Path.cwd().parent / 'bin' /'swb2.exe')\n",
    "sys.path.append(str(python_script_dir))\n",
    "\n",
    "import run_management as rm"
   ]
  },
  {
   "cell_type": "markdown",
   "metadata": {},
   "source": [
    "#### Remove and replace working directories for swb2 run"
   ]
  },
  {
   "cell_type": "code",
   "execution_count": null,
   "metadata": {},
   "outputs": [],
   "source": [
    "rm.destroy_model_work_output_and_logfile_dirs(base_dir=base_dir,\n",
    "                                              swb_work_dir=swb_work_dir,\n",
    "                                              logfile_dir=logfile_dir,\n",
    "                                              output_dir=output_dir)\n",
    "rm.create_model_work_output_and_logfile_dirs(base_dir=base_dir,\n",
    "                                             swb_work_dir=swb_work_dir,\n",
    "                                             logfile_dir=logfile_dir,\n",
    "                                             output_dir=output_dir)"
   ]
  },
  {
   "cell_type": "markdown",
   "metadata": {},
   "source": [
    "#### Make a new swb2 model run for a single cell example\n",
    "\n",
    "In the following step, a new swb2 model run is started using a pre-configured swb control file. The swb model contains a single cell. Daily weather data is a table of precipitation and tmax/tmin values. The test case is centered on the state of Minnesota. The swb model contains 620 cells in the x direction and 688 cells in the y direction. For this test, a tiny subset of the CMIP6/WRF weather data is being used. The CMIP6/WRF grids have been subsetted to cover a spatial extent slightly larger than the extent of the SWB grid; in addition, only 14 timesteps are retained in order to make the comparison files as small as possible."
   ]
  },
  {
   "cell_type": "code",
   "execution_count": null,
   "metadata": {},
   "outputs": [],
   "source": [
    "dry_run = False\n",
    "lookup_dir_arg_text = f\"--lookup_dir={str(test_data_dir)}\"\n",
    "weather_data_dir_arg_text = f\"--weather_data_dir={str(test_data_dir)}\"\n",
    "data_dir_arg_text = f\"--data_dir={str(test_data_dir)}\"\n",
    "output_dir_arg_text = f\"--output_dir={str(output_dir)}\"\n",
    "logfile_dir_arg_text = f\"--logfile_dir={str(logfile_dir)}\"\n",
    "control_file_path = str(test_data_dir / 'swb_control_file_cmip6.ctl')\n",
    "output_prefix = '--output_prefix=swb_CMIP6-WRF_test_'\n",
    "\n",
    "swb_arg_text = [swb2_executable, output_dir_arg_text, lookup_dir_arg_text, weather_data_dir_arg_text, \n",
    "                data_dir_arg_text, output_prefix, logfile_dir_arg_text, control_file_path]\n",
    "\n",
    "f = open(\"stdout.txt\", \"w\")\n",
    "\n",
    "if not dry_run:\n",
    "  with rm.cd(pl.Path(base_dir) / swb_work_dir):\n",
    "#    p = subprocess.Popen(swb_arg_text, stdout=subprocess.DEVNULL, stderr=subprocess.DEVNULL)\n",
    "    p = subprocess.Popen(swb_arg_text, stdout=f, stderr=subprocess.DEVNULL)\n",
    "    p.wait()"
   ]
  },
  {
   "cell_type": "code",
   "execution_count": null,
   "metadata": {},
   "outputs": [],
   "source": [
    "# define CRS for CMIP6/WRF and SWB grids\n",
    "crs_cmip = pp.CRS.from_epsg(4326)\n",
    "crs_swb = pp.CRS.from_epsg(5070)"
   ]
  },
  {
   "cell_type": "code",
   "execution_count": null,
   "metadata": {},
   "outputs": [],
   "source": [
    "df_cmip = xr.open_dataset(test_data_dir / 'historical_1995-2014_MIROC-ES2L__time_in_days__14-day.nc')\n",
    "df_swb = xr.open_dataset( pl.Path(base_dir).resolve() / swb_work_dir / output_dir / \n",
    "                         \"swb_CMIP6-WRF_test_gross_precipitation__2000-01-01_to_2000-01-14__688_by_620.nc\")\n",
    "\n",
    "da_cmip = df_cmip.to_dataarray()\n",
    "da_swb = df_swb.to_dataarray()"
   ]
  },
  {
   "cell_type": "code",
   "execution_count": null,
   "metadata": {},
   "outputs": [],
   "source": [
    "# use pyproj to determine the coordinate values in the CMIP6/WRF data set based on the subset pulled from the SWB grid\n",
    "proj = pp.transformer.Transformer.from_crs(crs_swb, crs_cmip, always_xy=True)"
   ]
  },
  {
   "cell_type": "code",
   "execution_count": null,
   "metadata": {},
   "outputs": [],
   "source": [
    "def get_random_val(drange):\n",
    "    v = rnd.randrange(start=int(drange*.1), stop=int(drange*.9))\n",
    "    return v"
   ]
  },
  {
   "cell_type": "markdown",
   "metadata": {},
   "source": [
    "#### Generate a set of coordinate values for data extraction and comparison\n",
    "\n",
    "In this step, a random set of xy values is drawn from the SWB grid. These are transformed into another set of xy values that specifies the nearest location in terms of the CMIP6/WRF CRS. "
   ]
  },
  {
   "cell_type": "code",
   "execution_count": null,
   "metadata": {},
   "outputs": [],
   "source": [
    "number_of_xy_pairs = 30\n",
    "xrange = df_swb.sizes['x']\n",
    "yrange = df_swb.sizes['y']\n",
    "x_indices = [get_random_val(xrange) for i in range(number_of_xy_pairs)]\n",
    "y_indices = [get_random_val(yrange) for i in range(number_of_xy_pairs)]\n",
    "x_swb = da_swb.x.values[x_indices]\n",
    "y_swb = da_swb.y.values[y_indices]\n",
    "x_cg, y_cg = proj.transform(x_swb, y_swb)"
   ]
  },
  {
   "cell_type": "markdown",
   "metadata": {},
   "source": [
    "#### Create subset of SWB and CMIP6/WRF values\n",
    "\n",
    "In this step, the values contained in the SWB output file are extracted for the subset of SWB xy values. The corresponding values are also extracted from the CMIP6/WRF grid files using the subset of CMIP6/WRF grid xy values. The extracted values are stored in separate lists."
   ]
  },
  {
   "cell_type": "code",
   "execution_count": null,
   "metadata": {},
   "outputs": [],
   "source": [
    "swb_vals = []\n",
    "CMIP6_WRF_vals = []\n",
    "\n",
    "for i in range(number_of_xy_pairs):\n",
    "    data_cmip = df_cmip.sel(lon=x_cg[i], lat=y_cg[i], method='nearest')\n",
    "    data_swb = df_swb.sel(x=x_swb[i],y=y_swb[i], method='nearest')\n",
    "    pdm = list(data_cmip.PREC_biasadju.values*8.)                  # need to multiply by 8, since values are in mm per 3/hr period\n",
    "    pswb = list(data_swb.gross_precipitation.values*25.4)\n",
    "    for item in pswb:\n",
    "        swb_vals.append(item)\n",
    "    for item in pdm:\n",
    "        CMIP6_WRF_vals.append(item)\n",
    "    "
   ]
  },
  {
   "cell_type": "markdown",
   "metadata": {},
   "source": [
    "#### Create Pandas dataframe from lists"
   ]
  },
  {
   "cell_type": "code",
   "execution_count": null,
   "metadata": {},
   "outputs": [],
   "source": [
    "results_df = pd.DataFrame(data={'swb_precip': swb_vals,'CMIP6_WRF_precip': CMIP6_WRF_vals})"
   ]
  },
  {
   "cell_type": "markdown",
   "metadata": {},
   "source": [
    "#### Drop NaN values from the dataframe of results\n",
    "\n",
    "Generally, there are many areas within a SWB grid that might be inactive. These areas might be over open water, or cover parts of the model domain for which no data exist. Here we drop all rows from the dataframe that contain 'NaN' values. "
   ]
  },
  {
   "cell_type": "code",
   "execution_count": null,
   "metadata": {},
   "outputs": [],
   "source": [
    "# dropping 'NaN' values, since these likely exist owing to inactive model cells within the SWB grid\n",
    "results_df.dropna(axis=0, inplace=True)"
   ]
  },
  {
   "cell_type": "markdown",
   "metadata": {},
   "source": [
    "## Test comparisons"
   ]
  },
  {
   "cell_type": "markdown",
   "metadata": {},
   "source": []
  },
  {
   "cell_type": "code",
   "execution_count": null,
   "metadata": {},
   "outputs": [],
   "source": [
    "fig, ax = plt.subplots(1,1,figsize=(12, 8),sharex=False)\n",
    "ax.plot(results_df['swb_precip'], results_df['CMIP6_WRF_precip'], marker='.', linestyle=' ', color='blue', markersize=4)\n",
    "ax.plot(range(13), range(13), linestyle='-', color='red', label='1:1 line')\n",
    "ax.set_ylabel('CMIP6/WRF precipitation, in millimeters')\n",
    "ax.set_xlabel('SWB precipitation, in millimeters')\n",
    "ax.set_title('Precipitation comparison: raw CMIP6/WRF value compared with value assigned to SWB cell')\n",
    "ax.legend()"
   ]
  }
 ],
 "metadata": {
  "kernelspec": {
   "display_name": "Python 3",
   "language": "python",
   "name": "python3"
  },
  "language_info": {
   "codemirror_mode": {
    "name": "ipython",
    "version": 3
   },
   "file_extension": ".py",
   "mimetype": "text/x-python",
   "name": "python",
   "nbconvert_exporter": "python",
   "pygments_lexer": "ipython3",
   "version": "3.12.1"
  }
 },
 "nbformat": 4,
 "nbformat_minor": 2
}
